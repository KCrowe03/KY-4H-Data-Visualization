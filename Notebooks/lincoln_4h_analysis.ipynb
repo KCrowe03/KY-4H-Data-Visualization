{
 "cells": [
  {
   "cell_type": "markdown",
   "id": "99b84c93",
   "metadata": {},
   "source": [
    "Lincoln 4H Analysis - Chart Review week 4 "
   ]
  },
  {
   "cell_type": "code",
   "execution_count": 88,
   "id": "0b9d9439",
   "metadata": {},
   "outputs": [],
   "source": [
    "import pandas as pd\n",
    "import numpy as np\n",
    "import matplotlib.pyplot as plt\n",
    "import seaborn as sns\n",
    "\n"
   ]
  },
  {
   "cell_type": "code",
   "execution_count": 89,
   "id": "c86843a8",
   "metadata": {},
   "outputs": [],
   "source": [
    "df = pd.read_csv(\"../data/Codeyou_4h_dataset.csv\", header=1)\n"
   ]
  },
  {
   "cell_type": "markdown",
   "id": "c7813405",
   "metadata": {},
   "source": [
    "### Looking at the data to verify its read in correctly "
   ]
  },
  {
   "cell_type": "code",
   "execution_count": 90,
   "id": "9864f783",
   "metadata": {},
   "outputs": [
    {
     "name": "stdout",
     "output_type": "stream",
     "text": [
      "<class 'pandas.core.frame.DataFrame'>\n",
      "RangeIndex: 15 entries, 0 to 14\n",
      "Data columns (total 11 columns):\n",
      " #   Column          Non-Null Count  Dtype  \n",
      "---  ------          --------------  -----  \n",
      " 0   StudentID       15 non-null     int64  \n",
      " 1   Name            15 non-null     object \n",
      " 2   Age             15 non-null     int64  \n",
      " 3   Clubs           15 non-null     object \n",
      " 4   Hours_Per_Week  15 non-null     float64\n",
      " 5   County          15 non-null     object \n",
      " 6   School          15 non-null     object \n",
      " 7   years_in_4h     15 non-null     int64  \n",
      " 8   zipcode         15 non-null     int64  \n",
      " 9   parent_contact  0 non-null      float64\n",
      " 10  Tshirt_size     0 non-null      float64\n",
      "dtypes: float64(3), int64(4), object(4)\n",
      "memory usage: 1.4+ KB\n"
     ]
    },
    {
     "data": {
      "text/html": [
       "<div>\n",
       "<style scoped>\n",
       "    .dataframe tbody tr th:only-of-type {\n",
       "        vertical-align: middle;\n",
       "    }\n",
       "\n",
       "    .dataframe tbody tr th {\n",
       "        vertical-align: top;\n",
       "    }\n",
       "\n",
       "    .dataframe thead th {\n",
       "        text-align: right;\n",
       "    }\n",
       "</style>\n",
       "<table border=\"1\" class=\"dataframe\">\n",
       "  <thead>\n",
       "    <tr style=\"text-align: right;\">\n",
       "      <th></th>\n",
       "      <th>StudentID</th>\n",
       "      <th>Age</th>\n",
       "      <th>Hours_Per_Week</th>\n",
       "      <th>years_in_4h</th>\n",
       "      <th>zipcode</th>\n",
       "      <th>parent_contact</th>\n",
       "      <th>Tshirt_size</th>\n",
       "    </tr>\n",
       "  </thead>\n",
       "  <tbody>\n",
       "    <tr>\n",
       "      <th>count</th>\n",
       "      <td>15.000000</td>\n",
       "      <td>15.000000</td>\n",
       "      <td>15.000000</td>\n",
       "      <td>15.000000</td>\n",
       "      <td>15.000000</td>\n",
       "      <td>0.0</td>\n",
       "      <td>0.0</td>\n",
       "    </tr>\n",
       "    <tr>\n",
       "      <th>mean</th>\n",
       "      <td>2118.000000</td>\n",
       "      <td>12.133333</td>\n",
       "      <td>2.933333</td>\n",
       "      <td>2.400000</td>\n",
       "      <td>40467.066667</td>\n",
       "      <td>NaN</td>\n",
       "      <td>NaN</td>\n",
       "    </tr>\n",
       "    <tr>\n",
       "      <th>std</th>\n",
       "      <td>4.472136</td>\n",
       "      <td>4.356713</td>\n",
       "      <td>1.590897</td>\n",
       "      <td>1.549193</td>\n",
       "      <td>30.433691</td>\n",
       "      <td>NaN</td>\n",
       "      <td>NaN</td>\n",
       "    </tr>\n",
       "    <tr>\n",
       "      <th>min</th>\n",
       "      <td>2111.000000</td>\n",
       "      <td>5.000000</td>\n",
       "      <td>1.000000</td>\n",
       "      <td>1.000000</td>\n",
       "      <td>40419.000000</td>\n",
       "      <td>NaN</td>\n",
       "      <td>NaN</td>\n",
       "    </tr>\n",
       "    <tr>\n",
       "      <th>25%</th>\n",
       "      <td>2114.500000</td>\n",
       "      <td>8.500000</td>\n",
       "      <td>2.000000</td>\n",
       "      <td>1.000000</td>\n",
       "      <td>40437.000000</td>\n",
       "      <td>NaN</td>\n",
       "      <td>NaN</td>\n",
       "    </tr>\n",
       "    <tr>\n",
       "      <th>50%</th>\n",
       "      <td>2118.000000</td>\n",
       "      <td>14.000000</td>\n",
       "      <td>2.500000</td>\n",
       "      <td>2.000000</td>\n",
       "      <td>40484.000000</td>\n",
       "      <td>NaN</td>\n",
       "      <td>NaN</td>\n",
       "    </tr>\n",
       "    <tr>\n",
       "      <th>75%</th>\n",
       "      <td>2121.500000</td>\n",
       "      <td>15.000000</td>\n",
       "      <td>3.750000</td>\n",
       "      <td>3.000000</td>\n",
       "      <td>40489.000000</td>\n",
       "      <td>NaN</td>\n",
       "      <td>NaN</td>\n",
       "    </tr>\n",
       "    <tr>\n",
       "      <th>max</th>\n",
       "      <td>2125.000000</td>\n",
       "      <td>18.000000</td>\n",
       "      <td>6.500000</td>\n",
       "      <td>5.000000</td>\n",
       "      <td>40489.000000</td>\n",
       "      <td>NaN</td>\n",
       "      <td>NaN</td>\n",
       "    </tr>\n",
       "  </tbody>\n",
       "</table>\n",
       "</div>"
      ],
      "text/plain": [
       "         StudentID        Age  Hours_Per_Week  years_in_4h       zipcode  \\\n",
       "count    15.000000  15.000000       15.000000    15.000000     15.000000   \n",
       "mean   2118.000000  12.133333        2.933333     2.400000  40467.066667   \n",
       "std       4.472136   4.356713        1.590897     1.549193     30.433691   \n",
       "min    2111.000000   5.000000        1.000000     1.000000  40419.000000   \n",
       "25%    2114.500000   8.500000        2.000000     1.000000  40437.000000   \n",
       "50%    2118.000000  14.000000        2.500000     2.000000  40484.000000   \n",
       "75%    2121.500000  15.000000        3.750000     3.000000  40489.000000   \n",
       "max    2125.000000  18.000000        6.500000     5.000000  40489.000000   \n",
       "\n",
       "       parent_contact  Tshirt_size  \n",
       "count             0.0          0.0  \n",
       "mean              NaN          NaN  \n",
       "std               NaN          NaN  \n",
       "min               NaN          NaN  \n",
       "25%               NaN          NaN  \n",
       "50%               NaN          NaN  \n",
       "75%               NaN          NaN  \n",
       "max               NaN          NaN  "
      ]
     },
     "execution_count": 90,
     "metadata": {},
     "output_type": "execute_result"
    }
   ],
   "source": [
    "df.head()\n",
    "df.info()\n",
    "df.describe()\n"
   ]
  },
  {
   "cell_type": "code",
   "execution_count": 97,
   "id": "5d513350",
   "metadata": {},
   "outputs": [],
   "source": [
    "# Drop columns with more than 100% missing values\n",
    "#df = df.drop(columns=['parent_contact', 'Tshirt_size'])\n"
   ]
  },
  {
   "cell_type": "code",
   "execution_count": null,
   "id": "867bb7e0",
   "metadata": {},
   "outputs": [
    {
     "name": "stdout",
     "output_type": "stream",
     "text": [
      "StudentID         0\n",
      "Name              0\n",
      "Age               0\n",
      "Clubs             0\n",
      "Hours_Per_Week    0\n",
      "County            0\n",
      "School            0\n",
      "years_in_4h       0\n",
      "zipcode           0\n",
      "dtype: int64\n"
     ]
    }
   ],
   "source": [
    "# check for missing values\n",
    "print(df.isnull().sum())\n"
   ]
  },
  {
   "cell_type": "code",
   "execution_count": 98,
   "id": "acb248ec",
   "metadata": {},
   "outputs": [],
   "source": [
    "# New df with only the columns we want to keep\n",
    "clean_df = df[['StudentID', 'Name', 'Age', 'Clubs', 'Hours_Per_Week', 'County', 'School', 'years_in_4h', 'zipcode']]\n",
    "\n",
    "# Save cleaned version to CSV without the index column\n",
    "clean_df.to_csv('clean_lincoln_4h.csv', index=False)\n"
   ]
  }
 ],
 "metadata": {
  "kernelspec": {
   "display_name": "Python 3",
   "language": "python",
   "name": "python3"
  },
  "language_info": {
   "codemirror_mode": {
    "name": "ipython",
    "version": 3
   },
   "file_extension": ".py",
   "mimetype": "text/x-python",
   "name": "python",
   "nbconvert_exporter": "python",
   "pygments_lexer": "ipython3",
   "version": "3.12.5"
  }
 },
 "nbformat": 4,
 "nbformat_minor": 5
}
